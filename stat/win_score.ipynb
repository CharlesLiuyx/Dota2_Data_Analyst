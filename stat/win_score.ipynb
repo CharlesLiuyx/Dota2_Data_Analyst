{
 "cells": [
  {
   "cell_type": "code",
   "execution_count": 1,
   "metadata": {},
   "outputs": [],
   "source": [
    "import json\n",
    "import os\n",
    "import numpy as np\n",
    "import matplotlib.pyplot as plt\n",
    "%matplotlib inline"
   ]
  },
  {
   "cell_type": "code",
   "execution_count": 2,
   "metadata": {},
   "outputs": [
    {
     "name": "stdout",
     "output_type": "stream",
     "text": [
      "-136 -44142\n"
     ]
    }
   ],
   "source": [
    "def get_source_json(filename):\n",
    "    directory = os.path.join(os.path.pardir, \"data\", filename)\n",
    "    with open(directory, \"r\", encoding=\"utf-8\") as f:\n",
    "        json_file = json.load(f)\n",
    "    return json_file\n",
    "result_info = get_source_json(\"parser_result_info.json\")[\"RECORDS\"]\n",
    "len(result_info)\n",
    "gold_adv = [int(e) for e in result_info[0][\"radiant_gold_adv\"].strip(\"[]\").split(\", \")]\n",
    "sum_gold_adv = sum(gold_adv)\n",
    "print(gold_adv[0], sum_gold_adv)"
   ]
  },
  {
   "cell_type": "code",
   "execution_count": 3,
   "metadata": {},
   "outputs": [],
   "source": [
    "def get_win_rate(start_time, end_time, result_info):\n",
    "    win_rate = []\n",
    "    for match in result_info:\n",
    "        gold_adv = [int(e) for e in match[\"radiant_gold_adv\"].strip(\"[]\").split(\", \")]\n",
    "        end = end_time if (end_time < len(gold_adv)) else len(gold_adv)\n",
    "        win_rate.append(sum(gold_adv[start_time:end]))\n",
    "    return win_rate"
   ]
  },
  {
   "cell_type": "code",
   "execution_count": 4,
   "metadata": {},
   "outputs": [
    {
     "name": "stdout",
     "output_type": "stream",
     "text": [
      "[-44142, 216265, -364155, -141382, 539714, -199188, 48853, 337772, -260451, -97418]\n"
     ]
    }
   ],
   "source": [
    "win_rate = get_win_rate(0, 120 , result_info)\n",
    "print(win_rate[0:10])"
   ]
  },
  {
   "cell_type": "code",
   "execution_count": 5,
   "metadata": {},
   "outputs": [
    {
     "name": "stderr",
     "output_type": "stream",
     "text": [
      "/home/yaoxingliu/anaconda3/lib/python3.6/site-packages/matplotlib/axes/_axes.py:6462: UserWarning: The 'normed' kwarg is deprecated, and has been replaced by the 'density' kwarg.\n",
      "  warnings.warn(\"The 'normed' kwarg is deprecated, and has been \"\n"
     ]
    },
    {
     "data": {
      "image/png": "[encoded data removed]",
      "text/plain": [
       "<Figure size 432x288 with 1 Axes>"
      ]
     },
     "metadata": {},
     "output_type": "display_data"
    }
   ],
   "source": [
    "plt.hist(win_rate, bins=40, normed=0, facecolor=\"blue\", edgecolor=\"black\", alpha=0.7)\n",
    "plt.xlabel(\"win_rate\")\n",
    "plt.ylabel(\"score\")\n",
    "plt.title(\"win rate histogram\")\n",
    "plt.show()"
   ]
  }
 ],
 "metadata": {
  "kernelspec": {
   "display_name": "Python 3",
   "language": "python",
   "name": "python3"
  },
  "language_info": {
   "codemirror_mode": {
    "name": "ipython",
    "version": 3
   },
   "file_extension": ".py",
   "mimetype": "text/x-python",
   "name": "python",
   "nbconvert_exporter": "python",
   "pygments_lexer": "ipython3",
   "version": "3.6.5"
  }
 },
 "nbformat": 4,
 "nbformat_minor": 2
}
