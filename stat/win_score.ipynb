{
 "cells": [
  {
   "cell_type": "code",
   "execution_count": 1,
   "metadata": {},
   "outputs": [],
   "source": [
    "import json\n",
    "import os\n",
    "import numpy as np\n",
    "import matplotlib.pyplot as plt\n",
    "%matplotlib inline"
   ]
  },
  {
   "cell_type": "code",
   "execution_count": 2,
   "metadata": {},
   "outputs": [
    {
     "name": "stdout",
     "output_type": "stream",
     "text": [
      "-136 -44142\n"
     ]
    }
   ],
   "source": [
    "# load json to memory from file\n",
    "def get_source_json(filename):\n",
    "    directory = os.path.join(os.path.pardir, \"data\", filename)\n",
    "    with open(directory, \"r\", encoding=\"utf-8\") as f:\n",
    "        json_file = json.load(f)\n",
    "    return json_file\n",
    "result_info = get_source_json(\"parser_result_info.json\")[\"RECORDS\"]\n",
    "len(result_info)\n",
    "gold_adv = [int(e) for e in result_info[0][\"radiant_gold_adv\"].strip(\"[]\").split(\", \")]\n",
    "sum_gold_adv = sum(gold_adv)\n",
    "print(gold_adv[0], sum_gold_adv)"
   ]
  },
  {
   "cell_type": "code",
   "execution_count": 25,
   "metadata": {},
   "outputs": [],
   "source": [
    "# 计算 win_rate\n",
    "def get_win_rate(start_time, end_time, result_info):\n",
    "    win_rate = []\n",
    "    for match in result_info:\n",
    "        gold_adv = [int(e) for e in match[\"radiant_gold_adv\"].strip(\"[]\").split(\", \")]\n",
    "        xp_adv = [int(e) for e in match[\"radiant_xp_adv\"].strip(\"[]\").split(\", \")]\n",
    "        end = end_time if (end_time < len(gold_adv)) else len(gold_adv)\n",
    "        win_rate.append(sum(gold_adv[start_time:end]) * 0.5 + sum(xp_adv[start_time:end]) * 0.5)\n",
    "    return win_rate"
   ]
  },
  {
   "cell_type": "code",
   "execution_count": 26,
   "metadata": {},
   "outputs": [
    {
     "name": "stdout",
     "output_type": "stream",
     "text": [
      "[-43316.5, 172663.5, -304590.0, -124158.0, 457990.0, -261662.0, 12781.0, 340032.5, -239591.5, -118922.0] \n",
      " 5387\n"
     ]
    }
   ],
   "source": [
    "win_rate = get_win_rate(0, 120 , result_info)\n",
    "print(win_rate[0:10], \"\\n\", len(win_rate))"
   ]
  },
  {
   "cell_type": "code",
   "execution_count": 27,
   "metadata": {},
   "outputs": [
    {
     "data": {
      "image/png": "[encoded data removed]",
      "text/plain": [
       "<Figure size 432x288 with 1 Axes>"
      ]
     },
     "metadata": {},
     "output_type": "display_data"
    }
   ],
   "source": [
    "plt.hist(win_rate, bins=100, density=0, facecolor=\"blue\", edgecolor=\"black\", alpha=0.7)\n",
    "plt.xlabel(\"win_rate\")\n",
    "plt.ylabel(\"score\")\n",
    "plt.title(\"win rate histogram\")\n",
    "plt.show()"
   ]
  },
  {
   "cell_type": "code",
   "execution_count": 28,
   "metadata": {},
   "outputs": [],
   "source": [
    "detail_info = get_source_json(\"parser_detail_info.json\")[\"RECORDS\"]"
   ]
  },
  {
   "cell_type": "code",
   "execution_count": 29,
   "metadata": {},
   "outputs": [
    {
     "data": {
      "text/plain": [
       "5387"
      ]
     },
     "execution_count": 29,
     "metadata": {},
     "output_type": "execute_result"
    }
   ],
   "source": [
    "len(detail_info)"
   ]
  },
  {
   "cell_type": "code",
   "execution_count": 34,
   "metadata": {},
   "outputs": [
    {
     "name": "stdout",
     "output_type": "stream",
     "text": [
      "5387 ['16, 17, 99, 112, 81, 47, 119, 77, 57, 100']\n",
      "5387 [-136, -353, -27, 687, 1523, 1352, 1354, 1528, 801, 1051, 1075, 2147, 1926, 2300, 2018, 2020, 1492, 624, -138, -2370, -5147, -7607, -9708, -16372, -24182]\n"
     ]
    }
   ],
   "source": [
    "hero_winrate = {}\n",
    "for match in detail_info:\n",
    "    # key is string of match_id \n",
    "    hero_winrate[str(match[\"match_id\"])] = [match[\"hero_id\"].strip(\"[]\")]\n",
    "print(len(hero_winrate), hero_winrate[\"3790506903\"])\n",
    "for match in result_info:\n",
    "    key = str(match[\"match_id\"])\n",
    "    if key in hero_winrate:\n",
    "        hero_winrate[key].append(match[\"radiant_gold_adv\"].strip(\"[]\"))\n",
    "        hero_winrate[key].append(match[\"radiant_xp_adv\"].strip(\"[]\"))\n",
    "print(len(hero_winrate), list(map(int, hero_winrate[\"3790506903\"][1].split(\", \"))))"
   ]
  },
  {
   "cell_type": "code",
   "execution_count": 35,
   "metadata": {},
   "outputs": [
    {
     "name": "stdout",
     "output_type": "stream",
     "text": [
      "['16', '17', '99', '112', '81', '47', '119', '77', '57', '100'] 8270.5\n",
      "(5387, 10) (5387,)\n"
     ]
    }
   ],
   "source": [
    "def cal_win_rate(start_time, end_time, gold_adv, xp_adv):\n",
    "    end_time = end_time if (end_time < len(gold_adv)) else len(gold_adv)\n",
    "    return sum(gold_adv[start_time:end_time]) * 0.5 + sum(xp_adv[start_time:end_time]) * 0.5\n",
    "\n",
    "data = []\n",
    "label = []\n",
    "for key, value in hero_winrate.items():\n",
    "    data.append(value[0].split(\", \"))\n",
    "    label.append(cal_win_rate(0, 12, list(map(int, value[1].split(\", \"))), list(map(int, value[2].split(\", \")))))\n",
    "print(data[0], label[0])\n",
    "x_sdata = np.array(data)\n",
    "y_sdata = np.array(label)\n",
    "x_sdata = x_sdata.astype(int)\n",
    "# y_train = y_train.astype(int)\n",
    "print(x_sdata.shape, y_sdata.shape)"
   ]
  },
  {
   "cell_type": "code",
   "execution_count": null,
   "metadata": {},
   "outputs": [],
   "source": []
  },
  {
   "cell_type": "code",
   "execution_count": null,
   "metadata": {},
   "outputs": [],
   "source": []
  }
 ],
 "metadata": {
  "kernelspec": {
   "display_name": "Python 3",
   "language": "python",
   "name": "python3"
  },
  "language_info": {
   "codemirror_mode": {
    "name": "ipython",
    "version": 3
   },
   "file_extension": ".py",
   "mimetype": "text/x-python",
   "name": "python",
   "nbconvert_exporter": "python",
   "pygments_lexer": "ipython3",
   "version": "3.6.5"
  }
 },
 "nbformat": 4,
 "nbformat_minor": 2
}
