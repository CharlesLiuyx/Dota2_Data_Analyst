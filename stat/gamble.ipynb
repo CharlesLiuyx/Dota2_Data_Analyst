{
 "cells": [
  {
   "cell_type": "code",
   "execution_count": 1,
   "metadata": {},
   "outputs": [],
   "source": [
    "import json\n",
    "import os\n",
    "import numpy as np\n",
    "import matplotlib.pyplot as plt\n",
    "%matplotlib inline"
   ]
  },
  {
   "cell_type": "markdown",
   "metadata": {},
   "source": [
    "## 10杀时间统计"
   ]
  },
  {
   "cell_type": "code",
   "execution_count": 2,
   "metadata": {},
   "outputs": [
    {
     "name": "stdout",
     "output_type": "stream",
     "text": [
      "[824, 467, 656, 782, 653, 717, 869, 549, 552, 870]\n"
     ]
    }
   ],
   "source": [
    "def get_source_json(filename):\n",
    "    directory = os.path.join(os.path.pardir, \"data\", filename)\n",
    "    with open(directory, \"r\", encoding=\"utf-8\") as f:\n",
    "        json_file = json.load(f)\n",
    "    return json_file\n",
    "\n",
    "result_info = get_source_json(\"parser_result_info.json\")[\"RECORDS\"]\n",
    "kill_10_time = []\n",
    "for match in result_info:\n",
    "    kill_10_time.append(match[\"kill_10_time\"])\n",
    "print(kill_10_time[0:10])"
   ]
  },
  {
   "cell_type": "code",
   "execution_count": 3,
   "metadata": {},
   "outputs": [
    {
     "data": {
      "image/png": "[encoded data removed]",
      "text/plain": [
       "<Figure size 432x288 with 1 Axes>"
      ]
     },
     "metadata": {},
     "output_type": "display_data"
    }
   ],
   "source": [
    "plt.hist(kill_10_time, bins=40, density=0, facecolor=\"blue\", edgecolor=\"black\", alpha=0.7)\n",
    "plt.xlabel(\"10 kill time\")\n",
    "plt.ylabel(\"amount\")\n",
    "plt.title(\"10 kill time - histogram\")\n",
    "plt.show()"
   ]
  },
  {
   "cell_type": "code",
   "execution_count": 4,
   "metadata": {},
   "outputs": [
    {
     "name": "stdout",
     "output_type": "stream",
     "text": [
      "5387 5387\n"
     ]
    }
   ],
   "source": [
    "detail_info = get_source_json(\"parser_detail_info.json\")[\"RECORDS\"]\n",
    "print(len(result_info), len(detail_info))"
   ]
  },
  {
   "cell_type": "code",
   "execution_count": 5,
   "metadata": {},
   "outputs": [],
   "source": [
    "for i in range(len(detail_info)):\n",
    "    if result_info[i][\"match_id\"] != detail_info[i][\"match_id\"]:\n",
    "        print(i, result_info[i][\"match_id\"])\n",
    "        break"
   ]
  },
  {
   "cell_type": "code",
   "execution_count": 43,
   "metadata": {},
   "outputs": [
    {
     "name": "stdout",
     "output_type": "stream",
     "text": [
      "[53, 30, 41, 14, 106, 7, 86, 44, 120, 35]\n",
      "[[16, 3, 5, 2], [17, 2, 4, 0], [99, 1, 0, 3], [112, 2, 4, 0], [81, 2, 4, 0], [47, 0, 0, 2], [119, 0, 2, 3], [77, 0, 0, 1], [57, 3, 0, 1], [100, 1, 2, 3]]\n"
     ]
    }
   ],
   "source": [
    "def str_2_list(string):\n",
    "    if string != \"[]\":\n",
    "        # print(string)\n",
    "        l = list(map(int, string.strip(\"[]\").split(\", \")))\n",
    "    else:\n",
    "        l = [-1, -1, -1, -1, -1, -1, -1, -1, -1, -1]\n",
    "    return l\n",
    "\n",
    "raw_data = []\n",
    "print(str_2_list(detail_info[i][\"hero_id\"]))\n",
    "for i in range(len(detail_info)):\n",
    "    d = []\n",
    "    for index in range(10):\n",
    "        row = []\n",
    "        row.append(str_2_list(detail_info[i][\"hero_id\"])[index])\n",
    "        row.append(str_2_list(result_info[i][\"kill_10_details_kill\"])[index])\n",
    "        row.append(str_2_list(result_info[i][\"kill_10_details_dead\"])[index])\n",
    "        row.append(str_2_list(result_info[i][\"kill_10_details_assist\"])[index])\n",
    "        d.append(row)\n",
    "    raw_data.append(d)\n",
    "    # print(i)\n",
    "print(raw_data[0])"
   ]
  },
  {
   "cell_type": "code",
   "execution_count": 47,
   "metadata": {},
   "outputs": [
    {
     "name": "stdout",
     "output_type": "stream",
     "text": [
      "[[51, 0, 1, 1], [79, 0, 3, 0], [15, 1, 0, 0], [2, 6, 0, 4], [39, 3, 1, 0]]\n"
     ]
    }
   ],
   "source": [
    "p1_data = []\n",
    "for line in raw_data:\n",
    "    radi_s, dire_s = 0, 0\n",
    "    for i in range(5):\n",
    "        radi_s += line[i][1]\n",
    "        dire_s += line[i+5][1]\n",
    "    if radi_s >= 9:\n",
    "        p1_data.append(line[0:5])\n",
    "    elif dire_s >= 9:\n",
    "        p1_data.append(line[5:10])\n",
    "print(p1_data[3])"
   ]
  },
  {
   "cell_type": "code",
   "execution_count": null,
   "metadata": {},
   "outputs": [],
   "source": []
  }
 ],
 "metadata": {
  "kernelspec": {
   "display_name": "Python 3",
   "language": "python",
   "name": "python3"
  },
  "language_info": {
   "codemirror_mode": {
    "name": "ipython",
    "version": 3
   },
   "file_extension": ".py",
   "mimetype": "text/x-python",
   "name": "python",
   "nbconvert_exporter": "python",
   "pygments_lexer": "ipython3",
   "version": "3.6.5"
  }
 },
 "nbformat": 4,
 "nbformat_minor": 2
}
